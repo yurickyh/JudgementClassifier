{
  "nbformat": 4,
  "nbformat_minor": 0,
  "metadata": {
    "colab": {
      "name": "Build Keywords JSON.ipynb",
      "provenance": [],
      "collapsed_sections": []
    },
    "kernelspec": {
      "name": "python3",
      "display_name": "Python 3"
    },
    "language_info": {
      "name": "python"
    }
  },
  "cells": [
    {
      "cell_type": "markdown",
      "metadata": {
        "id": "Qw3_dIAe1dpr"
      },
      "source": [
        "## Construção de JSON com Expressões Chaves\n",
        "\n",
        "Neste notebook será executada uma rotina utilitária para construir um arquivo JSON com todas as expressões presentes na coluna de expressões chaves do conjunto de dados, separando-as pelo ramo do Direito específico. Esse arquivo JSON será utilizado no processo de classificação do modelo simples que será construído com o propósito de comparação com o modelo desenvolvido no projeto."
      ]
    },
    {
      "cell_type": "code",
      "metadata": {
        "id": "pKHjoUNX1c-q"
      },
      "source": [
        "# Imports\n",
        "from google.colab import drive\n",
        "import pandas as pd\n",
        "import json"
      ],
      "execution_count": 16,
      "outputs": []
    },
    {
      "cell_type": "code",
      "metadata": {
        "id": "DvOh0QVI3bsx"
      },
      "source": [
        "# Constants definition\n",
        "CONSTANTS = {\n",
        "    'SPREADSHEET_PATH': '/content/drive/My Drive/MAC499 - Kaique e Yurick/DB/Acordaos_Final_Full_Info_Dataset.csv'\n",
        "}"
      ],
      "execution_count": 17,
      "outputs": []
    },
    {
      "cell_type": "code",
      "metadata": {
        "id": "onoqqmDN59n8",
        "colab": {
          "base_uri": "https://localhost:8080/"
        },
        "outputId": "133a07d1-f872-4e85-c1a0-6baf2b17d2a3"
      },
      "source": [
        "# Mounting Google Drive\n",
        "\n",
        "drive.mount('/content/drive', force_remount=True)"
      ],
      "execution_count": 3,
      "outputs": [
        {
          "output_type": "stream",
          "name": "stdout",
          "text": [
            "Mounted at /content/drive\n"
          ]
        }
      ]
    },
    {
      "cell_type": "code",
      "metadata": {
        "colab": {
          "base_uri": "https://localhost:8080/",
          "height": 776
        },
        "id": "VVRUQdUv3hpA",
        "outputId": "32f98cb1-c32b-4447-b820-0c298500ff2b"
      },
      "source": [
        "# Read the full dataset from .csv file\n",
        "documents = pd.read_csv(CONSTANTS['SPREADSHEET_PATH'])\n",
        "\n",
        "# Pre-process keywords column\n",
        "documents['expressoes_chave'] = documents['expressoes_chave'].apply(lambda expr: expr.replace('\"', '').replace(\"'\", '').replace('`', '').replace('´', '').replace('\\n', ';').replace(',', ';').replace('-', '').replace(\"“\", '').replace(\"”\", ''))\n",
        "documents"
      ],
      "execution_count": 13,
      "outputs": [
        {
          "output_type": "execute_result",
          "data": {
            "text/html": [
              "<div>\n",
              "<style scoped>\n",
              "    .dataframe tbody tr th:only-of-type {\n",
              "        vertical-align: middle;\n",
              "    }\n",
              "\n",
              "    .dataframe tbody tr th {\n",
              "        vertical-align: top;\n",
              "    }\n",
              "\n",
              "    .dataframe thead th {\n",
              "        text-align: right;\n",
              "    }\n",
              "</style>\n",
              "<table border=\"1\" class=\"dataframe\">\n",
              "  <thead>\n",
              "    <tr style=\"text-align: right;\">\n",
              "      <th></th>\n",
              "      <th>Unnamed: 0</th>\n",
              "      <th>cod_acordao</th>\n",
              "      <th>ramo</th>\n",
              "      <th>tipo_acordao</th>\n",
              "      <th>cabecalho</th>\n",
              "      <th>ementa</th>\n",
              "      <th>decisao</th>\n",
              "      <th>indexacao</th>\n",
              "      <th>somente_ementa</th>\n",
              "      <th>indicacao_exclusiva_ementa_voto</th>\n",
              "      <th>expressoes_chave</th>\n",
              "    </tr>\n",
              "  </thead>\n",
              "  <tbody>\n",
              "    <tr>\n",
              "      <th>0</th>\n",
              "      <td>0</td>\n",
              "      <td>EXT 1259</td>\n",
              "      <td>Direito Penal (Direito Processual Penal)</td>\n",
              "      <td>EXT</td>\n",
              "      <td>Ext 1259 / DF - DISTRITO FEDERAL EXTRADIÇÃO Re...</td>\n",
              "      <td>EMENTA Extradição instrutória. Duplicidade do ...</td>\n",
              "      <td>A Turma deferiu a extradição, nos termos do vo...</td>\n",
              "      <td>['INEXISTÊNCIA', 'CONOTAÇÃO', 'CRIME POLÍTICO'...</td>\n",
              "      <td>Sim</td>\n",
              "      <td>Sim</td>\n",
              "      <td>prática delitiva</td>\n",
              "    </tr>\n",
              "    <tr>\n",
              "      <th>1</th>\n",
              "      <td>1</td>\n",
              "      <td>RCL 1601</td>\n",
              "      <td>Direito Previdenciário</td>\n",
              "      <td>RCL</td>\n",
              "      <td>Rcl 1601 / SE - SERGIPE RECLAMAÇÃO Relator(a):...</td>\n",
              "      <td>Reclamação. Tutela antecipada. Decisão que, an...</td>\n",
              "      <td>O Tribunal julgou improcedente a reclamação. V...</td>\n",
              "      <td>['(CÍVEL)', 'DESCABIMENTO', 'RECLAMAÇÃO', 'INS...</td>\n",
              "      <td>Sim</td>\n",
              "      <td>Sim</td>\n",
              "      <td>tutela antecipada</td>\n",
              "    </tr>\n",
              "    <tr>\n",
              "      <th>2</th>\n",
              "      <td>2</td>\n",
              "      <td>MS 23855</td>\n",
              "      <td>Direito Civil (Direito Comercial/Direito de Fa...</td>\n",
              "      <td>MS</td>\n",
              "      <td>MS 23855 / MS - MATO GROSSO DO SUL MANDADO DE ...</td>\n",
              "      <td>EMENTA: Mandado de segurança, contra ato do Pr...</td>\n",
              "      <td>O Tribunal, por unanimidade, concedeu a segura...</td>\n",
              "      <td>['(CÍVEL)', 'NULIDADE', 'DECRETO PRESIDENCIAL'...</td>\n",
              "      <td>Sim</td>\n",
              "      <td>Não</td>\n",
              "      <td>imóvel rural; imóvel; proprietário</td>\n",
              "    </tr>\n",
              "    <tr>\n",
              "      <th>3</th>\n",
              "      <td>3</td>\n",
              "      <td>EXT 1370</td>\n",
              "      <td>Direito Internacional (Público ou Privado)</td>\n",
              "      <td>EXT</td>\n",
              "      <td>Ext 1370 / DF - DISTRITO FEDERAL EXTRADIÇÃO Re...</td>\n",
              "      <td>Ementa: Direito Internacional Público. Extradi...</td>\n",
              "      <td>A Turma deferiu o pedido de extradição, nos te...</td>\n",
              "      <td>['VIDE EMENTA']</td>\n",
              "      <td>Sim</td>\n",
              "      <td>Sim</td>\n",
              "      <td>direito público internacional</td>\n",
              "    </tr>\n",
              "    <tr>\n",
              "      <th>4</th>\n",
              "      <td>4</td>\n",
              "      <td>AO 1833</td>\n",
              "      <td>Direito Administrativo (Licitações, Contratos ...</td>\n",
              "      <td>AO</td>\n",
              "      <td>AO 1833 / AC - ACRE AÇÃO ORIGINÁRIA Relator(a)...</td>\n",
              "      <td>Ementa: AÇÃO ORIGINÁRIA. APELAÇÃO EM AÇÃO CIVI...</td>\n",
              "      <td>A Turma, por unanimidade, deu parcial provimen...</td>\n",
              "      <td>['NOTIFICAÇÃO PRÉVIA', 'REDAÇÃO ORIGINAL', 'LE...</td>\n",
              "      <td>Sim</td>\n",
              "      <td>Sim</td>\n",
              "      <td>uso irregular de verbas públicas</td>\n",
              "    </tr>\n",
              "    <tr>\n",
              "      <th>...</th>\n",
              "      <td>...</td>\n",
              "      <td>...</td>\n",
              "      <td>...</td>\n",
              "      <td>...</td>\n",
              "      <td>...</td>\n",
              "      <td>...</td>\n",
              "      <td>...</td>\n",
              "      <td>...</td>\n",
              "      <td>...</td>\n",
              "      <td>...</td>\n",
              "      <td>...</td>\n",
              "    </tr>\n",
              "    <tr>\n",
              "      <th>5519</th>\n",
              "      <td>5767</td>\n",
              "      <td>RE 228220</td>\n",
              "      <td>Direito do Trabalho</td>\n",
              "      <td>RE</td>\n",
              "      <td>RE 228220 / MG - MINAS GERAIS RECURSO EXTRAORD...</td>\n",
              "      <td>EMENTA: TRABALHISTA. REDE FERROVIÁRIA FEDERAL ...</td>\n",
              "      <td>A Turma não conheceu do recurso extraordinário...</td>\n",
              "      <td>['INADMISSIBILIDADE', 'RECURSO EXTRAORDINÁRIO'...</td>\n",
              "      <td>Sim</td>\n",
              "      <td>Sim</td>\n",
              "      <td>trabalhista</td>\n",
              "    </tr>\n",
              "    <tr>\n",
              "      <th>5520</th>\n",
              "      <td>5768</td>\n",
              "      <td>HC 111586</td>\n",
              "      <td>Direito Penal (Direito Processual Penal)</td>\n",
              "      <td>HC</td>\n",
              "      <td>HC 111586 / SP - SÃO PAULO HABEAS CORPUS Relat...</td>\n",
              "      <td>EMENTA Habeas corpus. Constitucional. Processu...</td>\n",
              "      <td>Por maioria de votos, a Turma concedeu, em par...</td>\n",
              "      <td>['ENTENDIMENTO', 'PLENÁRIO', 'SUPREMO TRIBUNAL...</td>\n",
              "      <td>Sim</td>\n",
              "      <td>Sim</td>\n",
              "      <td>habeas corpus; tráfico de entorpecentes ; libe...</td>\n",
              "    </tr>\n",
              "    <tr>\n",
              "      <th>5521</th>\n",
              "      <td>5769</td>\n",
              "      <td>RHC 118977</td>\n",
              "      <td>Direito Penal (Direito Processual Penal)</td>\n",
              "      <td>RHC</td>\n",
              "      <td>RHC 118977 / MS - MATO GROSSO DO SUL RECURSO O...</td>\n",
              "      <td>EMENTA Recurso ordinário em habeas corpus. Pro...</td>\n",
              "      <td>A Turma negou provimento ao recurso ordinário ...</td>\n",
              "      <td>['IMPOSSIBILIDADE', 'CONSIDERAÇÃO', 'CONDENAÇÃ...</td>\n",
              "      <td>Sim</td>\n",
              "      <td>Sim</td>\n",
              "      <td>Constrangimento ilegal; habeas corpus; recurso...</td>\n",
              "    </tr>\n",
              "    <tr>\n",
              "      <th>5522</th>\n",
              "      <td>5770</td>\n",
              "      <td>HC 126665</td>\n",
              "      <td>Direito Penal (Direito Processual Penal)</td>\n",
              "      <td>HC</td>\n",
              "      <td>HC 126665 / SP - SÃO PAULO HABEAS CORPUS Relat...</td>\n",
              "      <td>Ementa: HABEAS CORPUS CONTRA DECISÃO MONOCRÁTI...</td>\n",
              "      <td>Por maioria de votos, a Turma não admitiu a im...</td>\n",
              "      <td>['VIDE EMENTA', 'FUNDAMENTAÇÃO COMPLEMENTAR', ...</td>\n",
              "      <td>Sim</td>\n",
              "      <td>Sim</td>\n",
              "      <td>Furto e receptação; Prisão preventiva; garanti...</td>\n",
              "    </tr>\n",
              "    <tr>\n",
              "      <th>5523</th>\n",
              "      <td>5771</td>\n",
              "      <td>HC 106611</td>\n",
              "      <td>Direito Penal (Direito Processual Penal)</td>\n",
              "      <td>HC</td>\n",
              "      <td>HC 106611 / MG - MINAS GERAIS HABEAS CORPUS Re...</td>\n",
              "      <td>EMENTA: HABEAS CORPUS. PENAL. TRÁFICO ILÍCITO ...</td>\n",
              "      <td>A Turma denegou a ordem de habeas corpus, nos ...</td>\n",
              "      <td>['VIDE EMENTA']</td>\n",
              "      <td>Não</td>\n",
              "      <td>Não</td>\n",
              "      <td>habeas corpus; constrangimento ilegalinépcia d...</td>\n",
              "    </tr>\n",
              "  </tbody>\n",
              "</table>\n",
              "<p>5524 rows × 11 columns</p>\n",
              "</div>"
            ],
            "text/plain": [
              "      Unnamed: 0  ...                                   expressoes_chave\n",
              "0              0  ...                                   prática delitiva\n",
              "1              1  ...                                  tutela antecipada\n",
              "2              2  ...                 imóvel rural; imóvel; proprietário\n",
              "3              3  ...                      direito público internacional\n",
              "4              4  ...                   uso irregular de verbas públicas\n",
              "...          ...  ...                                                ...\n",
              "5519        5767  ...                                        trabalhista\n",
              "5520        5768  ...  habeas corpus; tráfico de entorpecentes ; libe...\n",
              "5521        5769  ...  Constrangimento ilegal; habeas corpus; recurso...\n",
              "5522        5770  ...  Furto e receptação; Prisão preventiva; garanti...\n",
              "5523        5771  ...  habeas corpus; constrangimento ilegalinépcia d...\n",
              "\n",
              "[5524 rows x 11 columns]"
            ]
          },
          "metadata": {},
          "execution_count": 13
        }
      ]
    },
    {
      "cell_type": "code",
      "metadata": {
        "id": "nEu5LUINk1lP"
      },
      "source": [
        "# Build the keywords structure and content\n",
        "branches_dicts = {'Direito Penal (Direito Processual Penal)': [],\n",
        "                  'Direito Administrativo (Licitações, Contratos Administrativos, Servidores, Desapropriação, Tribunal de Contas, Improbidade, etc.)': [],\n",
        "                  'Direito Tributário/Direito Financeiro': [],\n",
        "                  'Direito Civil (Direito Comercial/Direito de Família)': [],\n",
        "                  'Direito Previdenciário': [],\n",
        "                  'Direito do Trabalho': [],\n",
        "                  'Direito Processual Civil': [],\n",
        "                  'Direito Eleitoral': [],\n",
        "                  'Direito do Consumidor': [],\n",
        "                  'Direito Internacional (Público ou Privado)': [],\n",
        "                  'Direito Militar': [],\n",
        "                  'Direito Econômico (Direito concorrencial e Agências Reguladoras Setoriais, Intervenção no Domínio Econômico)': [],\n",
        "                  'Direito Ambiental': []}\n",
        "for index, row in documents.iterrows():\n",
        "  words = row['expressoes_chave'].split(';')\n",
        "  for word in words:\n",
        "    word = word.strip().strip('.').lower()\n",
        "    if word not in branches_dicts[row.ramo] and word != \"\":\n",
        "      branches_dicts[row.ramo].append(word)"
      ],
      "execution_count": 18,
      "outputs": []
    },
    {
      "cell_type": "code",
      "metadata": {
        "id": "sq0s0_B73yQB"
      },
      "source": [
        "# Save keywords to external JSON file\n",
        "with open(\"/content/drive/My Drive/MAC499 - Kaique e Yurick/DB/keywords.json\", \"w\") as kw:\n",
        "  json.dump(branches_dicts, kw)"
      ],
      "execution_count": 15,
      "outputs": []
    }
  ]
}